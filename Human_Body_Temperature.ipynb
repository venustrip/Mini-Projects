{
 "cells": [
  {
   "cell_type": "markdown",
   "metadata": {},
   "source": [
    "# What is the True Normal Human Body Temperature? \n",
    "\n",
    "#### Background\n",
    "\n",
    "The mean normal body temperature was held to be 37$^{\\circ}$C or 98.6$^{\\circ}$F for more than 120 years since it was first conceptualized and reported by Carl Wunderlich in a famous 1868 book. But, is this value statistically correct?"
   ]
  },
  {
   "cell_type": "markdown",
   "metadata": {},
   "source": [
    "<h3>Exercises</h3>\n",
    "\n",
    "<p>In this exercise, you will analyze a dataset of human body temperatures and employ the concepts of hypothesis testing, confidence intervals, and statistical significance.</p>\n",
    "\n",
    "<p>Answer the following questions <b>in this notebook below and submit to your Github account</b>.</p> \n",
    "\n",
    "<ol>\n",
    "<li>  Is the distribution of body temperatures normal? \n",
    "    <ul>\n",
    "    <li> Although this is not a requirement for the Central Limit Theorem to hold (read the introduction on Wikipedia's page about the CLT carefully: https://en.wikipedia.org/wiki/Central_limit_theorem), it gives us some peace of mind that the population may also be normally distributed if we assume that this sample is representative of the population.\n",
    "    <li> Think about the way you're going to check for the normality of the distribution. Graphical methods are usually used first, but there are also other ways: https://en.wikipedia.org/wiki/Normality_test\n",
    "    </ul>\n",
    "<li>  Is the sample size large? Are the observations independent?\n",
    "    <ul>\n",
    "    <li> Remember that this is a condition for the Central Limit Theorem, and hence the statistical tests we are using, to apply.\n",
    "    </ul>\n",
    "<li>  Is the true population mean really 98.6 degrees F?\n",
    "    <ul>\n",
    "    <li> First, try a bootstrap hypothesis test.\n",
    "    <li> Now, let's try frequentist statistical testing. Would you use a one-sample or two-sample test? Why?\n",
    "    <li> In this situation, is it appropriate to use the $t$ or $z$ statistic? \n",
    "    <li> Now try using the other test. How is the result be different? Why?\n",
    "    </ul>\n",
    "<li>  Draw a small sample of size 10 from the data and repeat both frequentist tests. \n",
    "    <ul>\n",
    "    <li> Which one is the correct one to use? \n",
    "    <li> What do you notice? What does this tell you about the difference in application of the $t$ and $z$ statistic?\n",
    "    </ul>\n",
    "<li>  At what temperature should we consider someone's temperature to be \"abnormal\"?\n",
    "    <ul>\n",
    "    <li> As in the previous example, try calculating everything using the boostrap approach, as well as the frequentist approach.\n",
    "    <li> Start by computing the margin of error and confidence interval. When calculating the confidence interval, keep in mind that you should use the appropriate formula for one draw, and not N draws.\n",
    "    </ul>\n",
    "<li>  Is there a significant difference between males and females in normal temperature?\n",
    "    <ul>\n",
    "    <li> What testing approach did you use and why?\n",
    "    <li> Write a story with your conclusion in the context of the original problem.\n",
    "    </ul>\n",
    "</ol>\n",
    "\n",
    "You can include written notes in notebook cells using Markdown: \n",
    "   - In the control panel at the top, choose Cell > Cell Type > Markdown\n",
    "   - Markdown syntax: http://nestacms.com/docs/creating-content/markdown-cheat-sheet\n",
    "\n",
    "#### Resources\n",
    "\n",
    "+ Information and data sources: http://www.amstat.org/publications/jse/datasets/normtemp.txt, http://www.amstat.org/publications/jse/jse_data_archive.htm\n",
    "+ Markdown syntax: http://nestacms.com/docs/creating-content/markdown-cheat-sheet\n",
    "\n",
    "****"
   ]
  },
  {
   "cell_type": "code",
   "execution_count": 1,
   "metadata": {},
   "outputs": [],
   "source": [
    "import pandas as pd\n",
    "import matplotlib.pyplot as plt\n",
    "import numpy as np\n",
    "from scipy import stats\n",
    "import seaborn as sns\n",
    "df = pd.read_csv('data/human_body_temperature.csv')"
   ]
  },
  {
   "cell_type": "code",
   "execution_count": 2,
   "metadata": {},
   "outputs": [
    {
     "data": {
      "text/html": [
       "<div>\n",
       "<style scoped>\n",
       "    .dataframe tbody tr th:only-of-type {\n",
       "        vertical-align: middle;\n",
       "    }\n",
       "\n",
       "    .dataframe tbody tr th {\n",
       "        vertical-align: top;\n",
       "    }\n",
       "\n",
       "    .dataframe thead th {\n",
       "        text-align: right;\n",
       "    }\n",
       "</style>\n",
       "<table border=\"1\" class=\"dataframe\">\n",
       "  <thead>\n",
       "    <tr style=\"text-align: right;\">\n",
       "      <th></th>\n",
       "      <th>temperature</th>\n",
       "      <th>gender</th>\n",
       "      <th>heart_rate</th>\n",
       "    </tr>\n",
       "  </thead>\n",
       "  <tbody>\n",
       "    <tr>\n",
       "      <th>0</th>\n",
       "      <td>99.3</td>\n",
       "      <td>F</td>\n",
       "      <td>68.0</td>\n",
       "    </tr>\n",
       "    <tr>\n",
       "      <th>1</th>\n",
       "      <td>98.4</td>\n",
       "      <td>F</td>\n",
       "      <td>81.0</td>\n",
       "    </tr>\n",
       "    <tr>\n",
       "      <th>2</th>\n",
       "      <td>97.8</td>\n",
       "      <td>M</td>\n",
       "      <td>73.0</td>\n",
       "    </tr>\n",
       "    <tr>\n",
       "      <th>3</th>\n",
       "      <td>99.2</td>\n",
       "      <td>F</td>\n",
       "      <td>66.0</td>\n",
       "    </tr>\n",
       "    <tr>\n",
       "      <th>4</th>\n",
       "      <td>98.0</td>\n",
       "      <td>F</td>\n",
       "      <td>73.0</td>\n",
       "    </tr>\n",
       "  </tbody>\n",
       "</table>\n",
       "</div>"
      ],
      "text/plain": [
       "   temperature gender  heart_rate\n",
       "0         99.3      F        68.0\n",
       "1         98.4      F        81.0\n",
       "2         97.8      M        73.0\n",
       "3         99.2      F        66.0\n",
       "4         98.0      F        73.0"
      ]
     },
     "execution_count": 2,
     "metadata": {},
     "output_type": "execute_result"
    }
   ],
   "source": [
    "df.head()"
   ]
  },
  {
   "cell_type": "code",
   "execution_count": 3,
   "metadata": {},
   "outputs": [
    {
     "name": "stdout",
     "output_type": "stream",
     "text": [
      "<class 'pandas.core.frame.DataFrame'>\n",
      "RangeIndex: 130 entries, 0 to 129\n",
      "Data columns (total 3 columns):\n",
      "temperature    130 non-null float64\n",
      "gender         130 non-null object\n",
      "heart_rate     130 non-null float64\n",
      "dtypes: float64(2), object(1)\n",
      "memory usage: 3.1+ KB\n"
     ]
    }
   ],
   "source": [
    "df.info()"
   ]
  },
  {
   "cell_type": "code",
   "execution_count": 4,
   "metadata": {},
   "outputs": [
    {
     "name": "stdout",
     "output_type": "stream",
     "text": [
      "Sample mean = 98.249 degrees F\n",
      "Sample std dev = 0.73 degrees F\n"
     ]
    }
   ],
   "source": [
    "sample_mean = np.mean(df.temperature)\n",
    "sample_std = np.std(df.temperature)\n",
    "print('Sample mean = '+str(np.round(sample_mean,3)) + ' degrees F')\n",
    "print('Sample std dev = '+str(np.round(sample_std,3))+ ' degrees F')"
   ]
  },
  {
   "cell_type": "markdown",
   "metadata": {},
   "source": [
    "# 1. Is the distribution of body temperatures normal?"
   ]
  },
  {
   "cell_type": "code",
   "execution_count": 5,
   "metadata": {},
   "outputs": [
    {
     "data": {
      "image/png": "[encoded data removed]",
      "text/plain": [
       "<Figure size 432x288 with 1 Axes>"
      ]
     },
     "metadata": {},
     "output_type": "display_data"
    }
   ],
   "source": [
    "sns.set()\n",
    "x = np.linspace(sample_mean-4*sample_std,sample_mean+4*sample_std, 4000)\n",
    "y = stats.norm.pdf(x,sample_mean,sample_std)\n",
    "_ = plt.plot(x, y)\n",
    "_ = plt.hist(df.temperature, bins=20, density=True)\n",
    "_ = plt.xlabel('Temperature (F)')\n",
    "_ = plt.ylabel('Count')\n",
    "_ = plt.title('Temperature Distribution')"
   ]
  },
  {
   "cell_type": "markdown",
   "metadata": {},
   "source": [
    "From the above histogram, the distribution of body temperatures appears to be normal."
   ]
  },
  {
   "cell_type": "code",
   "execution_count": 6,
   "metadata": {},
   "outputs": [
    {
     "data": {
      "text/html": [
       "<div>\n",
       "<style scoped>\n",
       "    .dataframe tbody tr th:only-of-type {\n",
       "        vertical-align: middle;\n",
       "    }\n",
       "\n",
       "    .dataframe tbody tr th {\n",
       "        vertical-align: top;\n",
       "    }\n",
       "\n",
       "    .dataframe thead th {\n",
       "        text-align: right;\n",
       "    }\n",
       "</style>\n",
       "<table border=\"1\" class=\"dataframe\">\n",
       "  <thead>\n",
       "    <tr style=\"text-align: right;\">\n",
       "      <th></th>\n",
       "      <th>temperature</th>\n",
       "      <th>heart_rate</th>\n",
       "    </tr>\n",
       "  </thead>\n",
       "  <tbody>\n",
       "    <tr>\n",
       "      <th>count</th>\n",
       "      <td>130.000000</td>\n",
       "      <td>130.000000</td>\n",
       "    </tr>\n",
       "    <tr>\n",
       "      <th>mean</th>\n",
       "      <td>98.249231</td>\n",
       "      <td>73.761538</td>\n",
       "    </tr>\n",
       "    <tr>\n",
       "      <th>std</th>\n",
       "      <td>0.733183</td>\n",
       "      <td>7.062077</td>\n",
       "    </tr>\n",
       "    <tr>\n",
       "      <th>min</th>\n",
       "      <td>96.300000</td>\n",
       "      <td>57.000000</td>\n",
       "    </tr>\n",
       "    <tr>\n",
       "      <th>25%</th>\n",
       "      <td>97.800000</td>\n",
       "      <td>69.000000</td>\n",
       "    </tr>\n",
       "    <tr>\n",
       "      <th>50%</th>\n",
       "      <td>98.300000</td>\n",
       "      <td>74.000000</td>\n",
       "    </tr>\n",
       "    <tr>\n",
       "      <th>75%</th>\n",
       "      <td>98.700000</td>\n",
       "      <td>79.000000</td>\n",
       "    </tr>\n",
       "    <tr>\n",
       "      <th>max</th>\n",
       "      <td>100.800000</td>\n",
       "      <td>89.000000</td>\n",
       "    </tr>\n",
       "  </tbody>\n",
       "</table>\n",
       "</div>"
      ],
      "text/plain": [
       "       temperature  heart_rate\n",
       "count   130.000000  130.000000\n",
       "mean     98.249231   73.761538\n",
       "std       0.733183    7.062077\n",
       "min      96.300000   57.000000\n",
       "25%      97.800000   69.000000\n",
       "50%      98.300000   74.000000\n",
       "75%      98.700000   79.000000\n",
       "max     100.800000   89.000000"
      ]
     },
     "execution_count": 6,
     "metadata": {},
     "output_type": "execute_result"
    }
   ],
   "source": [
    "df.describe()"
   ]
  },
  {
   "cell_type": "markdown",
   "metadata": {},
   "source": [
    "The mean and median do not have much of a difference (98.25 and 98.30 resp), and therefore indicate that this is a normal distribution.\n",
    "\n",
    "Next let's plot an ECDF graph for the data."
   ]
  },
  {
   "cell_type": "code",
   "execution_count": 7,
   "metadata": {},
   "outputs": [],
   "source": [
    "def ecdf(data):\n",
    "    \"\"\"Compute ECDF for a one-dimensional array of measurements.\"\"\"\n",
    "    # Number of data points: n\n",
    "    n = len(data)\n",
    "\n",
    "    # x-data for the ECDF: x\n",
    "    x = np.sort(data)\n",
    "\n",
    "    # y-data for the ECDF: y\n",
    "    y = np.arange(1, n+1) / n\n",
    "\n",
    "    return x, y"
   ]
  },
  {
   "cell_type": "code",
   "execution_count": 8,
   "metadata": {},
   "outputs": [
    {
     "data": {
      "image/png": "[encoded data removed]",
      "text/plain": [
       "<Figure size 432x288 with 1 Axes>"
      ]
     },
     "metadata": {},
     "output_type": "display_data"
    }
   ],
   "source": [
    "# Compute ECDF for data: x, y\n",
    "x, y = ecdf(df.temperature)\n",
    "\n",
    "# Generate plot\n",
    "plt.plot(x, y, marker='.', linestyle='none')\n",
    "plt.margins(0.02)\n",
    "\n",
    "# Label the axes\n",
    "plt.ylabel('ECDF')\n",
    "plt.xlabel('Temperature')\n",
    "plt.title('Temperature Cumulative Distribution')\n",
    "\n",
    "#Compare with normal distribution of data\n",
    "samples = np.random.normal(sample_mean, sample_std, size=10000)\n",
    "x_sample, y_sample = ecdf(samples)\n",
    "plt.plot(x_sample, y_sample)\n",
    "\n",
    "# Display the plot\n",
    "plt.show()\n"
   ]
  },
  {
   "cell_type": "markdown",
   "metadata": {},
   "source": [
    "The graph above again indicates that the data is normally distributed.\n",
    "\n",
    "The Shapiro–Wilk test is another way of testing normality in frequentist statistics. It tests the null hypothesis that the data was drawn from a normal distribution."
   ]
  },
  {
   "cell_type": "code",
   "execution_count": 9,
   "metadata": {},
   "outputs": [
    {
     "name": "stdout",
     "output_type": "stream",
     "text": [
      "Test Statistic =  0.9865769743919373\n",
      "The p-value for the hypothesis test =  0.2331680953502655\n"
     ]
    }
   ],
   "source": [
    "sh_val, p = stats.shapiro(df.temperature)\n",
    "print('Test Statistic = ',sh_val)\n",
    "print('The p-value for the hypothesis test = ', p)      "
   ]
  },
  {
   "cell_type": "markdown",
   "metadata": {},
   "source": [
    "Since the p-value is much larger than .05, we fail to reject the null hypothesis that the sample came from a population with a normal distribution."
   ]
  },
  {
   "cell_type": "markdown",
   "metadata": {},
   "source": [
    "# 2. Is the sample size large? Are the observations independent?"
   ]
  },
  {
   "cell_type": "markdown",
   "metadata": {},
   "source": [
    "The Central limit theorem states that if sample size are large enough, the distribution will be approximately normal. The general rule of n>=30 applies. Our sample size is 130 so it is fairly large. Also the body temperature of one person is independent of another so we can safely assume that the observations are independent. 130 is also well below 10% of the human population, so we can assume independence for the observations in this dataset."
   ]
  },
  {
   "cell_type": "markdown",
   "metadata": {},
   "source": [
    "# 3. Is the true population mean really 98.6 degrees F?"
   ]
  },
  {
   "cell_type": "markdown",
   "metadata": {},
   "source": [
    "Let's try a bootstrap hypothesis test first. To set up this test, we will take the mean as our test statistic. \n",
    "Our null and alternative hypotheses can be stated as:\n",
    "$H_0$:$\\mu$ = 98.6 F\n",
    "and\n",
    "$H_1$:$\\mu$ $\\ne$ 98.6 F"
   ]
  },
  {
   "cell_type": "code",
   "execution_count": 10,
   "metadata": {},
   "outputs": [],
   "source": [
    "def bootstrap_replicate_1d(data, func):\n",
    "    return func(np.random.choice(data, size=len(data)))"
   ]
  },
  {
   "cell_type": "code",
   "execution_count": 11,
   "metadata": {},
   "outputs": [],
   "source": [
    "def draw_bs_reps(data, func, size=1):\n",
    "    \"\"\"Draw bootstrap replicates.\"\"\"\n",
    "\n",
    "    # Initialize array of replicates: bs_replicates\n",
    "    bs_replicates = np.empty(size)\n",
    "\n",
    "    # Generate replicates\n",
    "    for i in range(size):\n",
    "        bs_replicates[i] = bootstrap_replicate_1d(data,func)\n",
    "\n",
    "    return bs_replicates"
   ]
  },
  {
   "cell_type": "code",
   "execution_count": 12,
   "metadata": {},
   "outputs": [],
   "source": [
    "# Function to Compute Confidence Interval\n",
    "def confidence_Interval(percent, data):\n",
    "    split_percent = (100-percent)/2\n",
    "    return np.percentile(data,[split_percent, percent + split_percent])"
   ]
  },
  {
   "cell_type": "code",
   "execution_count": 13,
   "metadata": {},
   "outputs": [
    {
     "name": "stdout",
     "output_type": "stream",
     "text": [
      "Standard Error of the Mean:  0.06405661469519336\n",
      "Standard deviation of bootstrap replicates:  0.06367827483390617\n"
     ]
    },
    {
     "data": {
      "image/png": "[encoded data removed]",
      "text/plain": [
       "<Figure size 432x288 with 1 Axes>"
      ]
     },
     "metadata": {},
     "output_type": "display_data"
    }
   ],
   "source": [
    "# shift the temperature distribution so that its mean is 98.6 deg F.\n",
    "s_temp = df.temperature - sample_mean + 98.6\n",
    "\n",
    "# create 10000 bootstrap replicates of the mean shifted temperature: bs_replicates\n",
    "bs_replicates = draw_bs_reps(s_temp, np.mean, size=10000)\n",
    "\n",
    "# Compute Standard Error of the Mean\n",
    "std_err_mean = np.std(df.temperature) / np.sqrt(len(df.temperature))\n",
    "print(\"Standard Error of the Mean: \", std_err_mean)\n",
    "\n",
    "# Compute Standard deviation of bootstrap replicates\n",
    "bs_std = np.std(bs_replicates)\n",
    "print(\"Standard deviation of bootstrap replicates: \", bs_std)\n",
    "\n",
    "# Make a histogram of the results\n",
    "_ = plt.hist(bs_replicates, bins=12, density=True)\n",
    "_ = plt.xlabel('Mean Temperature')\n",
    "_ = plt.ylabel('Count')\n",
    "_ = plt.title('Bootstrap Mean Temperature')\n",
    "plt.show()"
   ]
  },
  {
   "cell_type": "code",
   "execution_count": 14,
   "metadata": {},
   "outputs": [
    {
     "name": "stdout",
     "output_type": "stream",
     "text": [
      "p_val =  0.0\n"
     ]
    }
   ],
   "source": [
    "#Find the probability of 98.6\n",
    "p_val = np.sum(abs(bs_replicates - 98.6) >= abs(sample_mean - 98.6)) / len(bs_replicates)\n",
    "print('p_val = ', p_val)"
   ]
  },
  {
   "cell_type": "markdown",
   "metadata": {},
   "source": [
    "The p-value of 0 indicates that none of the 10,000 replicates had a value at least as extreme as the original dataset's mean. This indicates that, assuming the null hypothesis is true, there is less than a 0.01% likelihood of obtaining a value as extreme or greater than the mean temperature in the dataset by chance. Hence, the null hypothesis is rejected, and the alternative hypothesis is accepted. This bootstrap hypothesis test indicates that the mean population temperature is different from 98.6 degrees F."
   ]
  },
  {
   "cell_type": "markdown",
   "metadata": {},
   "source": [
    "Now, let's try frequentist statistical testing. Since the standard deviation of the population is not known, we would use a one-sample test.\n",
    "\n",
    "First let's do the z-test. Generally, z-tests are used when we have large sample sizes (n > 30), whereas t-tests are most helpful with a smaller sample size (n < 30). Both methods assume a normal distribution of the data, but the z-tests are most useful when the standard deviation is known."
   ]
  },
  {
   "cell_type": "code",
   "execution_count": 15,
   "metadata": {},
   "outputs": [],
   "source": [
    "#zscore function for means\n",
    "def zscore_mean(statistic, parameter, size=1):\n",
    "    zscore = (statistic - parameter.mean())/(parameter.std()/size**0.5)\n",
    "    return zscore\n",
    "\n",
    "#convert zscore to p-value\n",
    "def pvalue(zscore):\n",
    "    prob = 1 - stats.norm.cdf(zscore)\n",
    "    return prob"
   ]
  },
  {
   "cell_type": "code",
   "execution_count": 16,
   "metadata": {},
   "outputs": [
    {
     "name": "stdout",
     "output_type": "stream",
     "text": [
      "z-score:  5.454823292364079\n",
      "p-value:  2.451078506826576e-08\n"
     ]
    }
   ],
   "source": [
    "zscore = zscore_mean(98.6, df.temperature, 130)\n",
    "p = pvalue(zscore)\n",
    "print('z-score: ', zscore)\n",
    "print('p-value: ', p)"
   ]
  },
  {
   "cell_type": "markdown",
   "metadata": {},
   "source": [
    "The p-value is very close to 0 and hence the test indicates that the population mean temperature is different from 98.6 degrees F.\n",
    "\n",
    "Next let's try the t-test."
   ]
  },
  {
   "cell_type": "code",
   "execution_count": 17,
   "metadata": {},
   "outputs": [
    {
     "data": {
      "text/plain": [
       "Ttest_1sampResult(statistic=-5.4548232923645195, pvalue=2.4106320415561276e-07)"
      ]
     },
     "execution_count": 17,
     "metadata": {},
     "output_type": "execute_result"
    }
   ],
   "source": [
    "stats.ttest_1samp(df.temperature, 98.6)"
   ]
  },
  {
   "cell_type": "markdown",
   "metadata": {},
   "source": [
    "Again, since the p-value is less than our $\\alpha$ of 0.05, we reject the null hypothesis and have evidence for the population mean being a value different than 98.6 degrees F."
   ]
  },
  {
   "cell_type": "markdown",
   "metadata": {},
   "source": [
    "# 4. Draw a small sample of size 10 from the data and repeat both frequentist tests."
   ]
  },
  {
   "cell_type": "markdown",
   "metadata": {},
   "source": [
    "We will repeat the z-test and t-test on a sample of size 10 drawn at random with replacement from the dataset."
   ]
  },
  {
   "cell_type": "code",
   "execution_count": 18,
   "metadata": {},
   "outputs": [
    {
     "data": {
      "text/plain": [
       "array([98.5, 97.6, 97.1, 98.3, 98. , 97.7, 97.9, 98.4, 97.8, 96.3])"
      ]
     },
     "execution_count": 18,
     "metadata": {},
     "output_type": "execute_result"
    }
   ],
   "source": [
    "sample_10 = np.random.choice(df.temperature,size=10, replace=False)\n",
    "sample_10"
   ]
  },
  {
   "cell_type": "code",
   "execution_count": 19,
   "metadata": {},
   "outputs": [
    {
     "name": "stdout",
     "output_type": "stream",
     "text": [
      "Sample mean =  97.75999999999999 and Sample variance =  0.43600000000000255\n"
     ]
    }
   ],
   "source": [
    "#calculate the mean and sample variance\n",
    "m_10 = np.mean(sample_10)\n",
    "var_10 = np.var(sample_10, ddof=1)\n",
    "print('Sample mean = ', m_10, 'and Sample variance = ', var_10)"
   ]
  },
  {
   "cell_type": "code",
   "execution_count": 20,
   "metadata": {},
   "outputs": [
    {
     "name": "stdout",
     "output_type": "stream",
     "text": [
      "z-score:  4.240477729707684\n",
      "p-value:  1.1152228246102958e-05\n"
     ]
    }
   ],
   "source": [
    "zscore = zscore_mean(98.6, sample_10, 10)\n",
    "p = pvalue(zscore)\n",
    "print('z-score: ', zscore)\n",
    "print('p-value: ', p)"
   ]
  },
  {
   "cell_type": "code",
   "execution_count": 21,
   "metadata": {},
   "outputs": [
    {
     "data": {
      "text/plain": [
       "Ttest_1sampResult(statistic=-4.02287039792884, pvalue=0.003005045573823265)"
      ]
     },
     "execution_count": 21,
     "metadata": {},
     "output_type": "execute_result"
    }
   ],
   "source": [
    "stats.ttest_1samp(sample_10, 98.6)"
   ]
  },
  {
   "cell_type": "code",
   "execution_count": 22,
   "metadata": {},
   "outputs": [
    {
     "data": {
      "image/png": "[encoded data removed]",
      "text/plain": [
       "<Figure size 432x288 with 1 Axes>"
      ]
     },
     "metadata": {},
     "output_type": "display_data"
    }
   ],
   "source": [
    "_ = plt.hist(sample_10)\n",
    "_ = plt.xlabel('Temperature (degrees F)')\n",
    "_ = plt.ylabel('Count')\n",
    "_ = plt.title('Temperature Values for the Sample of Size 10')\n",
    "plt.show()"
   ]
  },
  {
   "cell_type": "markdown",
   "metadata": {},
   "source": [
    "# 5. At what temperature should we consider someone's temperature to be \"abnormal\"?"
   ]
  },
  {
   "cell_type": "markdown",
   "metadata": {},
   "source": [
    "Let's first calculate the 95% and 99% Confidence Intervals using the Frequentist Method."
   ]
  },
  {
   "cell_type": "code",
   "execution_count": 23,
   "metadata": {},
   "outputs": [
    {
     "name": "stdout",
     "output_type": "stream",
     "text": [
      "Normal temps in range 95%: [96.7225 99.4775]\n"
     ]
    }
   ],
   "source": [
    "abnormal_temp1 = confidence_Interval(95, df.temperature)\n",
    "print(\"Normal temps in range 95%:\", abnormal_temp1)"
   ]
  },
  {
   "cell_type": "code",
   "execution_count": 24,
   "metadata": {},
   "outputs": [
    {
     "name": "stdout",
     "output_type": "stream",
     "text": [
      "1.3775000000000048\n"
     ]
    }
   ],
   "source": [
    "me1 = (abnormal_temp1[1] - abnormal_temp1[0]) / 2\n",
    "print(me1)"
   ]
  },
  {
   "cell_type": "code",
   "execution_count": 25,
   "metadata": {},
   "outputs": [
    {
     "name": "stdout",
     "output_type": "stream",
     "text": [
      "Normal temps in range 99%: [ 96.3645 100.284 ]\n"
     ]
    }
   ],
   "source": [
    "abnormal_temp2 = confidence_Interval(99, df.temperature)\n",
    "print(\"Normal temps in range 99%:\", abnormal_temp2)"
   ]
  },
  {
   "cell_type": "code",
   "execution_count": 26,
   "metadata": {},
   "outputs": [
    {
     "name": "stdout",
     "output_type": "stream",
     "text": [
      "1.9597499999999997\n"
     ]
    }
   ],
   "source": [
    "me2 = (abnormal_temp2[1] - abnormal_temp2[0]) / 2\n",
    "print(me2)"
   ]
  },
  {
   "cell_type": "markdown",
   "metadata": {},
   "source": [
    "Next let's calculate the same using BootStrap approach."
   ]
  },
  {
   "cell_type": "code",
   "execution_count": 27,
   "metadata": {},
   "outputs": [
    {
     "name": "stdout",
     "output_type": "stream",
     "text": [
      "The 99% confidence interval is ( 98.09 ,  98.41307692307693 )\n",
      "The margin of error is 0.16153846153846274\n"
     ]
    }
   ],
   "source": [
    "# create 10,000 bootstrap replicates of the mean\n",
    "t_bs_reps = draw_bs_reps(df.temperature, np.mean, 10000)\n",
    "\n",
    "# evaluate the 99% confidence interval\n",
    "bs_reps_99ci = np.percentile(t_bs_reps, [0.5, 99.5])\n",
    "\n",
    "# calculate the margin of error\n",
    "bs_me = (bs_reps_99ci[1] - bs_reps_99ci[0]) / 2\n",
    "\n",
    "print('The 99% confidence interval is (', bs_reps_99ci[0], ', ', bs_reps_99ci[1], ')')\n",
    "print('The margin of error is', bs_me)"
   ]
  },
  {
   "cell_type": "code",
   "execution_count": 28,
   "metadata": {},
   "outputs": [
    {
     "name": "stdout",
     "output_type": "stream",
     "text": [
      "The 95% confidence interval is ( 98.12538461538462 ,  98.37307692307692 )\n",
      "The margin of error is 0.12384615384615216\n"
     ]
    }
   ],
   "source": [
    "# evaluate the 95% confidence interval\n",
    "bs_reps_95ci = np.percentile(t_bs_reps, [2.5, 97.5])\n",
    "\n",
    "# calculate the margin of error\n",
    "bs_me = (bs_reps_95ci[1] - bs_reps_95ci[0]) / 2\n",
    "\n",
    "print('The 95% confidence interval is (', bs_reps_95ci[0], ', ', bs_reps_95ci[1], ')')\n",
    "print('The margin of error is', bs_me)"
   ]
  },
  {
   "cell_type": "markdown",
   "metadata": {},
   "source": [
    "These approaches indicate that a temperature below 98.1 degrees F or above 98.4 degrees F is abnormal."
   ]
  },
  {
   "cell_type": "markdown",
   "metadata": {},
   "source": [
    "# 6. Is there a significant difference between males and females in normal temperature?"
   ]
  },
  {
   "cell_type": "code",
   "execution_count": 29,
   "metadata": {},
   "outputs": [],
   "source": [
    "male = df[df.gender == 'M'].temperature\n",
    "female = df[df.gender == 'F'].temperature"
   ]
  },
  {
   "cell_type": "code",
   "execution_count": 30,
   "metadata": {},
   "outputs": [
    {
     "data": {
      "text/plain": [
       "count    65.000000\n",
       "mean     98.104615\n",
       "std       0.698756\n",
       "min      96.300000\n",
       "25%      97.600000\n",
       "50%      98.100000\n",
       "75%      98.600000\n",
       "max      99.500000\n",
       "Name: temperature, dtype: float64"
      ]
     },
     "execution_count": 30,
     "metadata": {},
     "output_type": "execute_result"
    }
   ],
   "source": [
    "male.describe()"
   ]
  },
  {
   "cell_type": "code",
   "execution_count": 31,
   "metadata": {},
   "outputs": [
    {
     "data": {
      "text/plain": [
       "count     65.000000\n",
       "mean      98.393846\n",
       "std        0.743488\n",
       "min       96.400000\n",
       "25%       98.000000\n",
       "50%       98.400000\n",
       "75%       98.800000\n",
       "max      100.800000\n",
       "Name: temperature, dtype: float64"
      ]
     },
     "execution_count": 31,
     "metadata": {},
     "output_type": "execute_result"
    }
   ],
   "source": [
    "female.describe()"
   ]
  },
  {
   "cell_type": "markdown",
   "metadata": {},
   "source": [
    "The sample sizes for our sampling distribution of male and female body temperatures is 65 each. This number is large enough to apply the Central Limit Theorem."
   ]
  },
  {
   "cell_type": "code",
   "execution_count": 32,
   "metadata": {},
   "outputs": [
    {
     "data": {
      "image/png": "[encoded data removed]",
      "text/plain": [
       "<Figure size 432x288 with 1 Axes>"
      ]
     },
     "metadata": {},
     "output_type": "display_data"
    }
   ],
   "source": [
    "# Compute ECDF for male temperatures\n",
    "x_f, y_f = ecdf(male)\n",
    "\n",
    "# Generate plot\n",
    "_ = plt.plot(x_f, y_f, marker='.', linestyle='none', color='b', label='Female Temp')\n",
    "\n",
    "# Compute ECDF for female temperatures\n",
    "x_m, y_m = ecdf(female)\n",
    "\n",
    "# Generate plot\n",
    "_ = plt.plot(x_m, y_m, marker='.', linestyle='none', color='g', label='Male Temp')\n",
    "\n",
    "# Make the margins nice\n",
    "_ = plt.margins(.02)\n",
    "\n",
    "# Label the axes\n",
    "_ = plt.xlabel('Temperature')\n",
    "_ = plt.ylabel('ECDF')\n",
    "_ = plt.title('Female/Male Temperature Distribution')\n",
    "_ = plt.legend()\n",
    "plt.show()"
   ]
  },
  {
   "cell_type": "markdown",
   "metadata": {},
   "source": [
    "From the above graph, it is evident that the distributions are pretty close and normal. Also females have a higher temperature on average. "
   ]
  },
  {
   "cell_type": "code",
   "execution_count": 33,
   "metadata": {},
   "outputs": [
    {
     "name": "stdout",
     "output_type": "stream",
     "text": [
      "Difference in Mean Temp:  0.289230769230727\n",
      "Difference in Std Deviation:  0.12557668521231213\n"
     ]
    }
   ],
   "source": [
    "mean_diff = np.mean(female)-np.mean(male)\n",
    "print(\"Difference in Mean Temp: \", mean_diff)\n",
    "std_diff = np.sqrt((np.std(male)**2/len(male))+(np.std(female)**2/len(female)))\n",
    "print(\"Difference in Std Deviation: \", std_diff)"
   ]
  },
  {
   "cell_type": "markdown",
   "metadata": {},
   "source": [
    "The difference in the mean temperatures between males and females is about 0.289 degrees.\n",
    "Finally, we calculate the likelihood of getting a value as extreme as our difference of means, and compare that to our significance level $\\alpha=0.05$."
   ]
  },
  {
   "cell_type": "code",
   "execution_count": 34,
   "metadata": {},
   "outputs": [
    {
     "name": "stdout",
     "output_type": "stream",
     "text": [
      "If the true difference in means between male and female temperatures were 0, then an observed difference in sample means of 0.2892 would have a p-value of 0.02127.\n"
     ]
    }
   ],
   "source": [
    "p_value=(1-stats.norm.cdf(mean_diff,scale=std_diff))*2\n",
    "\n",
    "print(\"If the true difference in means between male and female temperatures were 0, \\\n",
    "then an observed difference in sample means of 0.2892 would have a p-value of \"+str(np.round(p_value,5))+\".\")"
   ]
  },
  {
   "cell_type": "markdown",
   "metadata": {},
   "source": [
    "Since the p-value is smaller than our significance level, we will reject the null hypothesis that the mean body temperature is the same between men and women. On the contrary, it is statistically significant."
   ]
  },
  {
   "cell_type": "markdown",
   "metadata": {},
   "source": [
    "# Conclusion"
   ]
  },
  {
   "cell_type": "markdown",
   "metadata": {},
   "source": [
    "This turned out to be a very interesting analysis of Human Body Temperatures. It suggests that Wunderlich's population mean of 98.6 that has been accepted for more than 120 years is not the true population mean. We used 3 different hypotheses tests to deduce this. The actual mean human body temperature is slightly lower, being centered at about 98.25 degrees Fahrenheit. According to the bootstrap confidence interval, there's a 95% chance that the true population mean for body temperature is between 98.124 and  98.375 degrees Fahrenheit.  \n",
    "\n",
    "It's also likely that females and males have different normal temperatures, although more data analysis is needed for confirmation. The conditions of data collection here are unknown. Further analysis on this topic should be conducted after controlling these conditions for more accurate conclusions. Our analysis indicated that the mean body temperatures of men and women are statistically different."
   ]
  },
  {
   "cell_type": "code",
   "execution_count": null,
   "metadata": {},
   "outputs": [],
   "source": []
  }
 ],
 "metadata": {
  "kernelspec": {
   "display_name": "Python 3",
   "language": "python",
   "name": "python3"
  },
  "language_info": {
   "codemirror_mode": {
    "name": "ipython",
    "version": 3
   },
   "file_extension": ".py",
   "mimetype": "text/x-python",
   "name": "python",
   "nbconvert_exporter": "python",
   "pygments_lexer": "ipython3",
   "version": "3.7.1"
  }
 },
 "nbformat": 4,
 "nbformat_minor": 1
}
