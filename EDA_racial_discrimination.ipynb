{
 "cells": [
  {
   "cell_type": "markdown",
   "metadata": {},
   "source": [
    "# Examining Racial Discrimination in the US Job Market\n",
    "\n",
    "### Background\n",
    "Racial discrimination continues to be pervasive in cultures throughout the world. Researchers examined the level of racial discrimination in the United States labor market by randomly assigning identical résumés to black-sounding or white-sounding names and observing the impact on requests for interviews from employers.\n",
    "\n",
    "### Data\n",
    "In the dataset provided, each row represents a resume. The 'race' column has two values, 'b' and 'w', indicating black-sounding and white-sounding. The column 'call' has two values, 1 and 0, indicating whether the resume received a call from employers or not.\n",
    "\n",
    "Note that the 'b' and 'w' values in race are assigned randomly to the resumes when presented to the employer."
   ]
  },
  {
   "cell_type": "markdown",
   "metadata": {},
   "source": [
    "### Exercises\n",
    "You will perform a statistical analysis to establish whether race has a significant impact on the rate of callbacks for resumes.\n",
    "\n",
    "Answer the following questions **in this notebook below and submit to your Github account**. \n",
    "\n",
    "   1. What test is appropriate for this problem? Does CLT apply?\n",
    "   2. What are the null and alternate hypotheses?\n",
    "   3. Compute margin of error, confidence interval, and p-value. Try using both the bootstrapping and the frequentist statistical approaches.\n",
    "   4. Write a story describing the statistical significance in the context or the original problem.\n",
    "   5. Does your analysis mean that race/name is the most important factor in callback success? Why or why not? If not, how would you amend your analysis?\n",
    "\n",
    "You can include written notes in notebook cells using Markdown: \n",
    "   - In the control panel at the top, choose Cell > Cell Type > Markdown\n",
    "   - Markdown syntax: http://nestacms.com/docs/creating-content/markdown-cheat-sheet\n",
    "\n",
    "#### Resources\n",
    "+ Experiment information and data source: http://www.povertyactionlab.org/evaluation/discrimination-job-market-united-states\n",
    "+ Scipy statistical methods: http://docs.scipy.org/doc/scipy/reference/stats.html \n",
    "+ Markdown syntax: http://nestacms.com/docs/creating-content/markdown-cheat-sheet\n",
    "+ Formulas for the Bernoulli distribution: https://en.wikipedia.org/wiki/Bernoulli_distribution"
   ]
  },
  {
   "cell_type": "code",
   "execution_count": 13,
   "metadata": {},
   "outputs": [],
   "source": [
    "import pandas as pd\n",
    "import numpy as np\n",
    "from scipy import stats"
   ]
  },
  {
   "cell_type": "code",
   "execution_count": 14,
   "metadata": {},
   "outputs": [],
   "source": [
    "data = pd.io.stata.read_stata('data/us_job_market_discrimination.dta')"
   ]
  },
  {
   "cell_type": "code",
   "execution_count": 15,
   "metadata": {},
   "outputs": [
    {
     "data": {
      "text/plain": [
       "(4870, 65)"
      ]
     },
     "execution_count": 15,
     "metadata": {},
     "output_type": "execute_result"
    }
   ],
   "source": [
    "data.shape"
   ]
  },
  {
   "cell_type": "code",
   "execution_count": 16,
   "metadata": {},
   "outputs": [
    {
     "name": "stdout",
     "output_type": "stream",
     "text": [
      "# of white-sounding candidates called back =  235.0\n",
      "# of black-sounding candidates called back =  157.0\n"
     ]
    }
   ],
   "source": [
    "# number of callbacks for each group\n",
    "w_callback = sum(data[data.race=='w'].call)\n",
    "b_callback = sum(data[data.race=='b'].call)\n",
    "print('# of white-sounding candidates called back = ', w_callback)\n",
    "print('# of black-sounding candidates called back = ', b_callback)"
   ]
  },
  {
   "cell_type": "markdown",
   "metadata": {},
   "source": [
    "So it looks like, 235 candidates with white-sounding names were called back, whereas only 157 candidates with black-sounding names were called back."
   ]
  },
  {
   "cell_type": "code",
   "execution_count": 17,
   "metadata": {},
   "outputs": [
    {
     "data": {
      "text/html": [
       "<div>\n",
       "<style scoped>\n",
       "    .dataframe tbody tr th:only-of-type {\n",
       "        vertical-align: middle;\n",
       "    }\n",
       "\n",
       "    .dataframe tbody tr th {\n",
       "        vertical-align: top;\n",
       "    }\n",
       "\n",
       "    .dataframe thead th {\n",
       "        text-align: right;\n",
       "    }\n",
       "</style>\n",
       "<table border=\"1\" class=\"dataframe\">\n",
       "  <thead>\n",
       "    <tr style=\"text-align: right;\">\n",
       "      <th></th>\n",
       "      <th>id</th>\n",
       "      <th>ad</th>\n",
       "      <th>education</th>\n",
       "      <th>ofjobs</th>\n",
       "      <th>yearsexp</th>\n",
       "      <th>honors</th>\n",
       "      <th>volunteer</th>\n",
       "      <th>military</th>\n",
       "      <th>empholes</th>\n",
       "      <th>occupspecific</th>\n",
       "      <th>...</th>\n",
       "      <th>compreq</th>\n",
       "      <th>orgreq</th>\n",
       "      <th>manuf</th>\n",
       "      <th>transcom</th>\n",
       "      <th>bankreal</th>\n",
       "      <th>trade</th>\n",
       "      <th>busservice</th>\n",
       "      <th>othservice</th>\n",
       "      <th>missind</th>\n",
       "      <th>ownership</th>\n",
       "    </tr>\n",
       "  </thead>\n",
       "  <tbody>\n",
       "    <tr>\n",
       "      <th>0</th>\n",
       "      <td>b</td>\n",
       "      <td>1</td>\n",
       "      <td>4</td>\n",
       "      <td>2</td>\n",
       "      <td>6</td>\n",
       "      <td>0</td>\n",
       "      <td>0</td>\n",
       "      <td>0</td>\n",
       "      <td>1</td>\n",
       "      <td>17</td>\n",
       "      <td>...</td>\n",
       "      <td>1.0</td>\n",
       "      <td>0.0</td>\n",
       "      <td>1.0</td>\n",
       "      <td>0.0</td>\n",
       "      <td>0.0</td>\n",
       "      <td>0.0</td>\n",
       "      <td>0.0</td>\n",
       "      <td>0.0</td>\n",
       "      <td>0.0</td>\n",
       "      <td></td>\n",
       "    </tr>\n",
       "    <tr>\n",
       "      <th>1</th>\n",
       "      <td>b</td>\n",
       "      <td>1</td>\n",
       "      <td>3</td>\n",
       "      <td>3</td>\n",
       "      <td>6</td>\n",
       "      <td>0</td>\n",
       "      <td>1</td>\n",
       "      <td>1</td>\n",
       "      <td>0</td>\n",
       "      <td>316</td>\n",
       "      <td>...</td>\n",
       "      <td>1.0</td>\n",
       "      <td>0.0</td>\n",
       "      <td>1.0</td>\n",
       "      <td>0.0</td>\n",
       "      <td>0.0</td>\n",
       "      <td>0.0</td>\n",
       "      <td>0.0</td>\n",
       "      <td>0.0</td>\n",
       "      <td>0.0</td>\n",
       "      <td></td>\n",
       "    </tr>\n",
       "    <tr>\n",
       "      <th>2</th>\n",
       "      <td>b</td>\n",
       "      <td>1</td>\n",
       "      <td>4</td>\n",
       "      <td>1</td>\n",
       "      <td>6</td>\n",
       "      <td>0</td>\n",
       "      <td>0</td>\n",
       "      <td>0</td>\n",
       "      <td>0</td>\n",
       "      <td>19</td>\n",
       "      <td>...</td>\n",
       "      <td>1.0</td>\n",
       "      <td>0.0</td>\n",
       "      <td>1.0</td>\n",
       "      <td>0.0</td>\n",
       "      <td>0.0</td>\n",
       "      <td>0.0</td>\n",
       "      <td>0.0</td>\n",
       "      <td>0.0</td>\n",
       "      <td>0.0</td>\n",
       "      <td></td>\n",
       "    </tr>\n",
       "    <tr>\n",
       "      <th>3</th>\n",
       "      <td>b</td>\n",
       "      <td>1</td>\n",
       "      <td>3</td>\n",
       "      <td>4</td>\n",
       "      <td>6</td>\n",
       "      <td>0</td>\n",
       "      <td>1</td>\n",
       "      <td>0</td>\n",
       "      <td>1</td>\n",
       "      <td>313</td>\n",
       "      <td>...</td>\n",
       "      <td>1.0</td>\n",
       "      <td>0.0</td>\n",
       "      <td>1.0</td>\n",
       "      <td>0.0</td>\n",
       "      <td>0.0</td>\n",
       "      <td>0.0</td>\n",
       "      <td>0.0</td>\n",
       "      <td>0.0</td>\n",
       "      <td>0.0</td>\n",
       "      <td></td>\n",
       "    </tr>\n",
       "    <tr>\n",
       "      <th>4</th>\n",
       "      <td>b</td>\n",
       "      <td>1</td>\n",
       "      <td>3</td>\n",
       "      <td>3</td>\n",
       "      <td>22</td>\n",
       "      <td>0</td>\n",
       "      <td>0</td>\n",
       "      <td>0</td>\n",
       "      <td>0</td>\n",
       "      <td>313</td>\n",
       "      <td>...</td>\n",
       "      <td>1.0</td>\n",
       "      <td>1.0</td>\n",
       "      <td>0.0</td>\n",
       "      <td>0.0</td>\n",
       "      <td>0.0</td>\n",
       "      <td>0.0</td>\n",
       "      <td>0.0</td>\n",
       "      <td>1.0</td>\n",
       "      <td>0.0</td>\n",
       "      <td>Nonprofit</td>\n",
       "    </tr>\n",
       "  </tbody>\n",
       "</table>\n",
       "<p>5 rows × 65 columns</p>\n",
       "</div>"
      ],
      "text/plain": [
       "  id ad  education  ofjobs  yearsexp  honors  volunteer  military  empholes  \\\n",
       "0  b  1          4       2         6       0          0         0         1   \n",
       "1  b  1          3       3         6       0          1         1         0   \n",
       "2  b  1          4       1         6       0          0         0         0   \n",
       "3  b  1          3       4         6       0          1         0         1   \n",
       "4  b  1          3       3        22       0          0         0         0   \n",
       "\n",
       "   occupspecific    ...      compreq  orgreq  manuf  transcom  bankreal trade  \\\n",
       "0             17    ...          1.0     0.0    1.0       0.0       0.0   0.0   \n",
       "1            316    ...          1.0     0.0    1.0       0.0       0.0   0.0   \n",
       "2             19    ...          1.0     0.0    1.0       0.0       0.0   0.0   \n",
       "3            313    ...          1.0     0.0    1.0       0.0       0.0   0.0   \n",
       "4            313    ...          1.0     1.0    0.0       0.0       0.0   0.0   \n",
       "\n",
       "  busservice othservice  missind  ownership  \n",
       "0        0.0        0.0      0.0             \n",
       "1        0.0        0.0      0.0             \n",
       "2        0.0        0.0      0.0             \n",
       "3        0.0        0.0      0.0             \n",
       "4        0.0        1.0      0.0  Nonprofit  \n",
       "\n",
       "[5 rows x 65 columns]"
      ]
     },
     "execution_count": 17,
     "metadata": {},
     "output_type": "execute_result"
    }
   ],
   "source": [
    "data.head()"
   ]
  },
  {
   "cell_type": "markdown",
   "metadata": {},
   "source": [
    "# 1. What test is appropriate for this problem? Does CLT apply?"
   ]
  },
  {
   "cell_type": "markdown",
   "metadata": {},
   "source": [
    "Since we have two sample groups in our data, we will perform a 2-sample test. The test will help us determine whether race has a significant impact on the rate of callbacks for resumes or not. \n",
    "\n",
    "The CLT would apply because the sample size is much larger than 30 (n=4870) and large enough that the number of successes and failures will be sufficiently large. The sample size is much less than 10% of the total job-seeking population making it an independent sample. Independence can also be assumed because the decision to callback one candidate does not affect the decision to callback another candidate. The data is assumed to be randomly sampled."
   ]
  },
  {
   "cell_type": "markdown",
   "metadata": {},
   "source": [
    "# 2. What are the null and alternate hypotheses?"
   ]
  },
  {
   "cell_type": "markdown",
   "metadata": {},
   "source": [
    "The null hypothesis is that the population proportion of black-sounding names (pb) who received callbacks is equal to the population proportion of white-sounding names (pw) who received callbacks.\n",
    "\n",
    "The alternative hypothesis is that the population proportion of black-sounding names (pb) who received callbacks is not equal to the population proportion of white-sounding names (pw) who received callbacks. \n",
    "\n",
    "$H_0$:pw-pb = 0\n",
    "\n",
    "$H_1$:pw-pb $\\ne$ 0\n",
    "\n",
    "We assume that the null hypothesis is true."
   ]
  },
  {
   "cell_type": "code",
   "execution_count": 18,
   "metadata": {},
   "outputs": [],
   "source": [
    "w = data[data.race=='w']\n",
    "b = data[data.race=='b']"
   ]
  },
  {
   "cell_type": "code",
   "execution_count": 19,
   "metadata": {},
   "outputs": [
    {
     "name": "stdout",
     "output_type": "stream",
     "text": [
      "# of white-sounding candidates =  2435\n",
      "# of black-sounding candidates =  2435\n"
     ]
    }
   ],
   "source": [
    "print('# of white-sounding candidates = ', w.shape[0])\n",
    "print('# of black-sounding candidates = ', b.shape[0])"
   ]
  },
  {
   "cell_type": "markdown",
   "metadata": {},
   "source": [
    "Of the 4870 rows that we have in our dataset, 2435 are marked white-sounding and 2435 are marked black-sounding. So, each group has equal number of data points."
   ]
  },
  {
   "cell_type": "markdown",
   "metadata": {},
   "source": [
    "# 3. Compute margin of error, confidence interval, and p-value. Try using both the bootstrapping and the frequentist statistical approaches."
   ]
  },
  {
   "cell_type": "code",
   "execution_count": 20,
   "metadata": {},
   "outputs": [
    {
     "name": "stdout",
     "output_type": "stream",
     "text": [
      "% of white-sounding resumes that were called back = 9.65\n",
      "% of black-sounding resumes that were called back = 6.45\n"
     ]
    }
   ],
   "source": [
    "pw = w_callback/w.shape[0]\n",
    "pb = b_callback/b.shape[0]\n",
    "print(\"% of white-sounding resumes that were called back =\", round(pw*100,2))\n",
    "print(\"% of black-sounding resumes that were called back =\", round(pb*100,2))"
   ]
  },
  {
   "cell_type": "markdown",
   "metadata": {},
   "source": [
    "First we will try the frequestist statistical approach."
   ]
  },
  {
   "cell_type": "code",
   "execution_count": 21,
   "metadata": {},
   "outputs": [
    {
     "name": "stdout",
     "output_type": "stream",
     "text": [
      "Margin of Error = 0.02004863403754258\n"
     ]
    }
   ],
   "source": [
    "# Compute z-score for 99% Confidence Interval\n",
    "z_score = stats.norm.ppf(.995)\n",
    "\n",
    "# Compute Margin of Error\n",
    "margin_error = z_score*np.sqrt(pw*(1-pw)/w.shape[0]+pb*(1-pb)/b.shape[0])\n",
    "print(\"Margin of Error =\", margin_error)"
   ]
  },
  {
   "cell_type": "code",
   "execution_count": 22,
   "metadata": {},
   "outputs": [
    {
     "name": "stdout",
     "output_type": "stream",
     "text": [
      "Degrees of freedom = 4868\n",
      "Observed proportion difference = 0.03203285485506058\n",
      "Standard deviation = 0.272\n",
      "Alpha for 99% confidence level = 0.01\n",
      "99% Confidence interval = (0.011984220817517998, 0.05208148889260315)\n"
     ]
    }
   ],
   "source": [
    "# estimate the population proportions for the null hypothesis\n",
    "p0 = np.sum(data.call) / len(data.call)\n",
    "\n",
    "nw = len(w.call)\n",
    "nb = len(b.call)\n",
    "\n",
    "# Compute degrees of freedom\n",
    "dof = nw + nb - 2\n",
    "print('Degrees of freedom =', dof)\n",
    "\n",
    "# find the difference between sample proportions\n",
    "pw = np.mean(w.call)\n",
    "pb = np.mean(b.call)\n",
    "p_diff = pw-pb\n",
    "print('Observed proportion difference =', p_diff)\n",
    "\n",
    "# find the standard deviations\n",
    "w_std = w.call.std()\n",
    "b_std = b.call.std()\n",
    "std = np.sqrt(((nw - 1)*w_std**2 + (nb - 1)*b_std**2) / dof)\n",
    "std_diff = np.sqrt((w_std)**2 + (b_std)**2)\n",
    "print('Standard deviation =', round(std, 3))\n",
    "\n",
    "# confidence level\n",
    "alpha = 0.01\n",
    "print('Alpha for 99% confidence level =', alpha)\n",
    "\n",
    "# calculate interval\n",
    "ci_low = p_diff - margin_error\n",
    "ci_high = p_diff + margin_error\n",
    "\n",
    "print(\"99% Confidence interval =\", (ci_low, ci_high))"
   ]
  },
  {
   "cell_type": "code",
   "execution_count": 23,
   "metadata": {},
   "outputs": [
    {
     "name": "stdout",
     "output_type": "stream",
     "text": [
      "The probability that the difference in proportion is due to chance is 1.9312819064531972e-05 .\n"
     ]
    }
   ],
   "source": [
    "z_score2 = p_diff/np.sqrt(pw*(1-pw)/nw+pb*(1-pb)/nb)\n",
    "p = 1-stats.norm.cdf(z_score2)\n",
    "print(\"The probability that the difference in proportion is due to chance is\", p, \".\")"
   ]
  },
  {
   "cell_type": "markdown",
   "metadata": {},
   "source": [
    "So we see above that the p-value is much smaller than the significance level in the z-test.\n",
    "\n",
    "Next we will try the bootstrapping approach."
   ]
  },
  {
   "cell_type": "code",
   "execution_count": 24,
   "metadata": {},
   "outputs": [
    {
     "name": "stdout",
     "output_type": "stream",
     "text": [
      "99% Confidence Interval is (0.011909651569639634, 0.052566735758551336)\n",
      "Margin of Error = 0.02032854209445585\n",
      "p-value = 0.0\n"
     ]
    }
   ],
   "source": [
    "# seed the pseudorandom number generator\n",
    "np.random.seed(42)\n",
    "\n",
    "# set the number of replicates to generate\n",
    "# NREPS = 10000\n",
    "\n",
    "# initialize an array for the bootstrap replicates\n",
    "bs_reps = np.empty(10000)\n",
    "\n",
    "# generate 10000 bootstrap replicates for pw - pb\n",
    "bs_reps_w = np.random.binomial(nw, p0, size=10000) / nw\n",
    "bs_reps_b = np.random.binomial(nb, p0, size=10000) / nb\n",
    "bs_reps = bs_reps_w - bs_reps_b\n",
    "    \n",
    "# compute the 99% confidence interval\n",
    "bs_ci = np.percentile(bs_reps + p_diff, [0.5, 99.5])\n",
    "print('99% Confidence Interval is', tuple(bs_ci))\n",
    "\n",
    "# compute the margin of error\n",
    "bs_me = (bs_ci[1] - bs_ci[0]) / 2\n",
    "print('Margin of Error =', bs_me)\n",
    "\n",
    "# compute the p-value\n",
    "p_bs = np.sum(bs_reps >= p_diff) / len(bs_reps)\n",
    "print('p-value =', p_bs)"
   ]
  },
  {
   "cell_type": "markdown",
   "metadata": {},
   "source": [
    "# 4. Write a story describing the statistical significance in the context or the original problem."
   ]
  },
  {
   "cell_type": "markdown",
   "metadata": {},
   "source": [
    "A study conducted to examine racial discrimination in the United States labor market found that only 6.45% of resumes with black-sounding names received requests for interviews. The callback rate was 1.5 times higher (9.65%) when white-sounding names were assigned to identical resumes.\n",
    "\n",
    "The data was explored using frequentist and bootstrapping methods.\n",
    "\n",
    "A $p$-value was obtained for each of two hypothesis tests. The bootstrap hypothesis test gave a $p$-value of $0$, indicating that none of the 10,000 generated bootstrap replicates were at least as extreme as the difference between the observed sample proportions. The $z$-test gave a $p$-value of $1.93 \\times 10^{-5}$, indicating that there is a less than 1 % chance of observing a value as extreme as the difference between the sample proportions or greater under the null hypothesis. Since both the tests resulted in p-values below the 0.01 alpha value, the null hypotheses should be rejected. \n",
    "\n",
    "A 99% confidence interval was evaluated for each of two different approaches. The corresponding margin of error was evaluated for each confidence interval as well. Both approaches had similar results, with a confidence interval of $(0.01, 0.05)$ and a margin of error of $0.02$. These results suggest that, with 99% confidence, the true difference between the population proportions of callbacks for white sounding names and black sounding names is within this interval. The interval does not include 0, so the confidence intervals suggest that the two population proportions are not equal. \n",
    "\n",
    "Therefore, we reject our null hypothesis that there is no actual difference in callback rates between black and white candidates. Those with \"white-sounding\" names receive more calls from employeers than those with \"black-sounding\" names. \n",
    "Through this analysis, we conclude that there is a statistically significant difference in the callback rates for resumes with white-sounding names when compared to black-sounding names. Racial discrimination continues to exist in the United States labor market."
   ]
  },
  {
   "cell_type": "markdown",
   "metadata": {
    "collapsed": true
   },
   "source": [
    "# 5. Does your analysis mean that race/name is the most important factor in callback success? Why or why not? If not, how would you amend your analysis?"
   ]
  },
  {
   "cell_type": "markdown",
   "metadata": {},
   "source": [
    "The analysis shows that race could be an important factor in callback success. However that does not necessarily mean that it is the \"most\" important factor. There are several other variables in this dataset that were not checked for this analysis. Education level, years of experience etc on the resume also influence the callback rate. Also the data was collected for only 2 cities. \n",
    "\n",
    "In the future, it would be useful to gather data from more cities and it should be analyzed using other independent variables  in addition to race."
   ]
  },
  {
   "cell_type": "code",
   "execution_count": null,
   "metadata": {},
   "outputs": [],
   "source": []
  }
 ],
 "metadata": {
  "kernelspec": {
   "display_name": "Python 3",
   "language": "python",
   "name": "python3"
  },
  "language_info": {
   "codemirror_mode": {
    "name": "ipython",
    "version": 3
   },
   "file_extension": ".py",
   "mimetype": "text/x-python",
   "name": "python",
   "nbconvert_exporter": "python",
   "pygments_lexer": "ipython3",
   "version": "3.7.1"
  }
 },
 "nbformat": 4,
 "nbformat_minor": 1
}
